{
 "cells": [
  {
   "cell_type": "code",
   "execution_count": 1,
   "metadata": {},
   "outputs": [],
   "source": [
    "import pandas as pd\n",
    "import numpy as np\n",
    "import matplotlib.pyplot as plt\n"
   ]
  },
  {
   "cell_type": "code",
   "execution_count": 2,
   "metadata": {},
   "outputs": [
    {
     "data": {
      "text/html": [
       "<div>\n",
       "<style scoped>\n",
       "    .dataframe tbody tr th:only-of-type {\n",
       "        vertical-align: middle;\n",
       "    }\n",
       "\n",
       "    .dataframe tbody tr th {\n",
       "        vertical-align: top;\n",
       "    }\n",
       "\n",
       "    .dataframe thead th {\n",
       "        text-align: right;\n",
       "    }\n",
       "</style>\n",
       "<table border=\"1\" class=\"dataframe\">\n",
       "  <thead>\n",
       "    <tr style=\"text-align: right;\">\n",
       "      <th></th>\n",
       "      <th>Pregnancies</th>\n",
       "      <th>Glucose</th>\n",
       "      <th>BloodPressure</th>\n",
       "      <th>SkinThickness</th>\n",
       "      <th>Insulin</th>\n",
       "      <th>BMI</th>\n",
       "      <th>DiabetesPedigreeFunction</th>\n",
       "      <th>Age</th>\n",
       "      <th>Outcome</th>\n",
       "    </tr>\n",
       "  </thead>\n",
       "  <tbody>\n",
       "    <tr>\n",
       "      <th>0</th>\n",
       "      <td>6</td>\n",
       "      <td>148</td>\n",
       "      <td>72</td>\n",
       "      <td>35</td>\n",
       "      <td>0</td>\n",
       "      <td>33.6</td>\n",
       "      <td>0.627</td>\n",
       "      <td>50</td>\n",
       "      <td>1</td>\n",
       "    </tr>\n",
       "    <tr>\n",
       "      <th>1</th>\n",
       "      <td>1</td>\n",
       "      <td>85</td>\n",
       "      <td>66</td>\n",
       "      <td>29</td>\n",
       "      <td>0</td>\n",
       "      <td>26.6</td>\n",
       "      <td>0.351</td>\n",
       "      <td>31</td>\n",
       "      <td>0</td>\n",
       "    </tr>\n",
       "    <tr>\n",
       "      <th>2</th>\n",
       "      <td>8</td>\n",
       "      <td>183</td>\n",
       "      <td>64</td>\n",
       "      <td>0</td>\n",
       "      <td>0</td>\n",
       "      <td>23.3</td>\n",
       "      <td>0.672</td>\n",
       "      <td>32</td>\n",
       "      <td>1</td>\n",
       "    </tr>\n",
       "    <tr>\n",
       "      <th>3</th>\n",
       "      <td>1</td>\n",
       "      <td>89</td>\n",
       "      <td>66</td>\n",
       "      <td>23</td>\n",
       "      <td>94</td>\n",
       "      <td>28.1</td>\n",
       "      <td>0.167</td>\n",
       "      <td>21</td>\n",
       "      <td>0</td>\n",
       "    </tr>\n",
       "    <tr>\n",
       "      <th>4</th>\n",
       "      <td>0</td>\n",
       "      <td>137</td>\n",
       "      <td>40</td>\n",
       "      <td>35</td>\n",
       "      <td>168</td>\n",
       "      <td>43.1</td>\n",
       "      <td>2.288</td>\n",
       "      <td>33</td>\n",
       "      <td>1</td>\n",
       "    </tr>\n",
       "    <tr>\n",
       "      <th>...</th>\n",
       "      <td>...</td>\n",
       "      <td>...</td>\n",
       "      <td>...</td>\n",
       "      <td>...</td>\n",
       "      <td>...</td>\n",
       "      <td>...</td>\n",
       "      <td>...</td>\n",
       "      <td>...</td>\n",
       "      <td>...</td>\n",
       "    </tr>\n",
       "    <tr>\n",
       "      <th>763</th>\n",
       "      <td>10</td>\n",
       "      <td>101</td>\n",
       "      <td>76</td>\n",
       "      <td>48</td>\n",
       "      <td>180</td>\n",
       "      <td>32.9</td>\n",
       "      <td>0.171</td>\n",
       "      <td>63</td>\n",
       "      <td>0</td>\n",
       "    </tr>\n",
       "    <tr>\n",
       "      <th>764</th>\n",
       "      <td>2</td>\n",
       "      <td>122</td>\n",
       "      <td>70</td>\n",
       "      <td>27</td>\n",
       "      <td>0</td>\n",
       "      <td>36.8</td>\n",
       "      <td>0.340</td>\n",
       "      <td>27</td>\n",
       "      <td>0</td>\n",
       "    </tr>\n",
       "    <tr>\n",
       "      <th>765</th>\n",
       "      <td>5</td>\n",
       "      <td>121</td>\n",
       "      <td>72</td>\n",
       "      <td>23</td>\n",
       "      <td>112</td>\n",
       "      <td>26.2</td>\n",
       "      <td>0.245</td>\n",
       "      <td>30</td>\n",
       "      <td>0</td>\n",
       "    </tr>\n",
       "    <tr>\n",
       "      <th>766</th>\n",
       "      <td>1</td>\n",
       "      <td>126</td>\n",
       "      <td>60</td>\n",
       "      <td>0</td>\n",
       "      <td>0</td>\n",
       "      <td>30.1</td>\n",
       "      <td>0.349</td>\n",
       "      <td>47</td>\n",
       "      <td>1</td>\n",
       "    </tr>\n",
       "    <tr>\n",
       "      <th>767</th>\n",
       "      <td>1</td>\n",
       "      <td>93</td>\n",
       "      <td>70</td>\n",
       "      <td>31</td>\n",
       "      <td>0</td>\n",
       "      <td>30.4</td>\n",
       "      <td>0.315</td>\n",
       "      <td>23</td>\n",
       "      <td>0</td>\n",
       "    </tr>\n",
       "  </tbody>\n",
       "</table>\n",
       "<p>768 rows × 9 columns</p>\n",
       "</div>"
      ],
      "text/plain": [
       "     Pregnancies  Glucose  BloodPressure  SkinThickness  Insulin   BMI  \\\n",
       "0              6      148             72             35        0  33.6   \n",
       "1              1       85             66             29        0  26.6   \n",
       "2              8      183             64              0        0  23.3   \n",
       "3              1       89             66             23       94  28.1   \n",
       "4              0      137             40             35      168  43.1   \n",
       "..           ...      ...            ...            ...      ...   ...   \n",
       "763           10      101             76             48      180  32.9   \n",
       "764            2      122             70             27        0  36.8   \n",
       "765            5      121             72             23      112  26.2   \n",
       "766            1      126             60              0        0  30.1   \n",
       "767            1       93             70             31        0  30.4   \n",
       "\n",
       "     DiabetesPedigreeFunction  Age  Outcome  \n",
       "0                       0.627   50        1  \n",
       "1                       0.351   31        0  \n",
       "2                       0.672   32        1  \n",
       "3                       0.167   21        0  \n",
       "4                       2.288   33        1  \n",
       "..                        ...  ...      ...  \n",
       "763                     0.171   63        0  \n",
       "764                     0.340   27        0  \n",
       "765                     0.245   30        0  \n",
       "766                     0.349   47        1  \n",
       "767                     0.315   23        0  \n",
       "\n",
       "[768 rows x 9 columns]"
      ]
     },
     "execution_count": 2,
     "metadata": {},
     "output_type": "execute_result"
    }
   ],
   "source": [
    "df = pd.read_csv('Predict Diabetes/diabetes.csv')\n",
    "df"
   ]
  },
  {
   "attachments": {},
   "cell_type": "markdown",
   "metadata": {},
   "source": [
    "Source = https://www.kaggle.com/datasets/whenamancodes/predict-diabities"
   ]
  },
  {
   "cell_type": "code",
   "execution_count": 3,
   "metadata": {},
   "outputs": [
    {
     "name": "stdout",
     "output_type": "stream",
     "text": [
      "(576, 4)\n",
      "(192, 4)\n",
      "(576,)\n",
      "(192,)\n"
     ]
    }
   ],
   "source": [
    "from sklearn.model_selection import train_test_split\n",
    "\n",
    "X = np.array(df.loc[:,['Pregnancies', 'Glucose', 'BloodPressure', 'BMI']])\n",
    "y = np.array(df['Outcome'])\n",
    "X_train, X_test, y_train, y_test = train_test_split(X, y, random_state=406)\n",
    "\n",
    "print(X_train.shape)\n",
    "print(X_test.shape)\n",
    "print(y_train.shape)\n",
    "print(y_test.shape)"
   ]
  },
  {
   "cell_type": "code",
   "execution_count": 4,
   "metadata": {},
   "outputs": [],
   "source": [
    "C_range = np.logspace(0, 10, 11)\n",
    "gamma_range = np.logspace(-14, -4, 11)"
   ]
  },
  {
   "cell_type": "code",
   "execution_count": 5,
   "metadata": {},
   "outputs": [
    {
     "name": "stdout",
     "output_type": "stream",
     "text": [
      "C = 1.0 , gamma = 1e-14\n",
      "C = 1.0 , gamma = 1e-13\n",
      "C = 1.0 , gamma = 1e-12\n",
      "C = 1.0 , gamma = 1e-11\n",
      "C = 1.0 , gamma = 1e-10\n",
      "C = 1.0 , gamma = 1e-09\n",
      "C = 1.0 , gamma = 1e-08\n",
      "C = 1.0 , gamma = 1e-07\n",
      "C = 1.0 , gamma = 1e-06\n",
      "C = 1.0 , gamma = 1e-05\n",
      "C = 1.0 , gamma = 0.0001\n",
      "C = 10.0 , gamma = 1e-14\n",
      "C = 10.0 , gamma = 1e-13\n",
      "C = 10.0 , gamma = 1e-12\n",
      "C = 10.0 , gamma = 1e-11\n",
      "C = 10.0 , gamma = 1e-10\n",
      "C = 10.0 , gamma = 1e-09\n",
      "C = 10.0 , gamma = 1e-08\n",
      "C = 10.0 , gamma = 1e-07\n",
      "C = 10.0 , gamma = 1e-06\n",
      "C = 10.0 , gamma = 1e-05\n",
      "C = 10.0 , gamma = 0.0001\n",
      "C = 100.0 , gamma = 1e-14\n",
      "C = 100.0 , gamma = 1e-13\n",
      "C = 100.0 , gamma = 1e-12\n",
      "C = 100.0 , gamma = 1e-11\n",
      "C = 100.0 , gamma = 1e-10\n",
      "C = 100.0 , gamma = 1e-09\n",
      "C = 100.0 , gamma = 1e-08\n",
      "C = 100.0 , gamma = 1e-07\n",
      "C = 100.0 , gamma = 1e-06\n",
      "C = 100.0 , gamma = 1e-05\n",
      "C = 100.0 , gamma = 0.0001\n",
      "C = 1000.0 , gamma = 1e-14\n",
      "C = 1000.0 , gamma = 1e-13\n",
      "C = 1000.0 , gamma = 1e-12\n",
      "C = 1000.0 , gamma = 1e-11\n",
      "C = 1000.0 , gamma = 1e-10\n",
      "C = 1000.0 , gamma = 1e-09\n",
      "C = 1000.0 , gamma = 1e-08\n",
      "C = 1000.0 , gamma = 1e-07\n",
      "C = 1000.0 , gamma = 1e-06\n",
      "C = 1000.0 , gamma = 1e-05\n",
      "C = 1000.0 , gamma = 0.0001\n",
      "C = 10000.0 , gamma = 1e-14\n",
      "C = 10000.0 , gamma = 1e-13\n",
      "C = 10000.0 , gamma = 1e-12\n",
      "C = 10000.0 , gamma = 1e-11\n",
      "C = 10000.0 , gamma = 1e-10\n",
      "C = 10000.0 , gamma = 1e-09\n",
      "C = 10000.0 , gamma = 1e-08\n",
      "C = 10000.0 , gamma = 1e-07\n",
      "C = 10000.0 , gamma = 1e-06\n",
      "C = 10000.0 , gamma = 1e-05\n",
      "C = 10000.0 , gamma = 0.0001\n",
      "C = 100000.0 , gamma = 1e-14\n",
      "C = 100000.0 , gamma = 1e-13\n",
      "C = 100000.0 , gamma = 1e-12\n",
      "C = 100000.0 , gamma = 1e-11\n",
      "C = 100000.0 , gamma = 1e-10\n",
      "C = 100000.0 , gamma = 1e-09\n",
      "C = 100000.0 , gamma = 1e-08\n",
      "C = 100000.0 , gamma = 1e-07\n",
      "C = 100000.0 , gamma = 1e-06\n",
      "C = 100000.0 , gamma = 1e-05\n",
      "C = 100000.0 , gamma = 0.0001\n",
      "C = 1000000.0 , gamma = 1e-14\n",
      "C = 1000000.0 , gamma = 1e-13\n",
      "C = 1000000.0 , gamma = 1e-12\n",
      "C = 1000000.0 , gamma = 1e-11\n",
      "C = 1000000.0 , gamma = 1e-10\n",
      "C = 1000000.0 , gamma = 1e-09\n",
      "C = 1000000.0 , gamma = 1e-08\n",
      "C = 1000000.0 , gamma = 1e-07\n",
      "C = 1000000.0 , gamma = 1e-06\n",
      "C = 1000000.0 , gamma = 1e-05\n",
      "C = 1000000.0 , gamma = 0.0001\n",
      "C = 10000000.0 , gamma = 1e-14\n",
      "C = 10000000.0 , gamma = 1e-13\n",
      "C = 10000000.0 , gamma = 1e-12\n",
      "C = 10000000.0 , gamma = 1e-11\n",
      "C = 10000000.0 , gamma = 1e-10\n",
      "C = 10000000.0 , gamma = 1e-09\n",
      "C = 10000000.0 , gamma = 1e-08\n",
      "C = 10000000.0 , gamma = 1e-07\n",
      "C = 10000000.0 , gamma = 1e-06\n",
      "C = 10000000.0 , gamma = 1e-05\n",
      "C = 10000000.0 , gamma = 0.0001\n",
      "C = 100000000.0 , gamma = 1e-14\n",
      "C = 100000000.0 , gamma = 1e-13\n",
      "C = 100000000.0 , gamma = 1e-12\n",
      "C = 100000000.0 , gamma = 1e-11\n",
      "C = 100000000.0 , gamma = 1e-10\n",
      "C = 100000000.0 , gamma = 1e-09\n",
      "C = 100000000.0 , gamma = 1e-08\n",
      "C = 100000000.0 , gamma = 1e-07\n",
      "C = 100000000.0 , gamma = 1e-06\n",
      "C = 100000000.0 , gamma = 1e-05\n",
      "C = 100000000.0 , gamma = 0.0001\n",
      "C = 1000000000.0 , gamma = 1e-14\n",
      "C = 1000000000.0 , gamma = 1e-13\n",
      "C = 1000000000.0 , gamma = 1e-12\n",
      "C = 1000000000.0 , gamma = 1e-11\n",
      "C = 1000000000.0 , gamma = 1e-10\n",
      "C = 1000000000.0 , gamma = 1e-09\n",
      "C = 1000000000.0 , gamma = 1e-08\n",
      "C = 1000000000.0 , gamma = 1e-07\n",
      "C = 1000000000.0 , gamma = 1e-06\n",
      "C = 1000000000.0 , gamma = 1e-05\n",
      "C = 1000000000.0 , gamma = 0.0001\n",
      "C = 10000000000.0 , gamma = 1e-14\n",
      "C = 10000000000.0 , gamma = 1e-13\n",
      "C = 10000000000.0 , gamma = 1e-12\n",
      "C = 10000000000.0 , gamma = 1e-11\n",
      "C = 10000000000.0 , gamma = 1e-10\n",
      "C = 10000000000.0 , gamma = 1e-09\n",
      "C = 10000000000.0 , gamma = 1e-08\n",
      "C = 10000000000.0 , gamma = 1e-07\n",
      "C = 10000000000.0 , gamma = 1e-06\n",
      "C = 10000000000.0 , gamma = 1e-05\n",
      "C = 10000000000.0 , gamma = 0.0001\n"
     ]
    }
   ],
   "source": [
    "from sklearn.pipeline import Pipeline\n",
    "from sklearn.svm import SVC\n",
    "\n",
    "svm_list = []\n",
    "\n",
    "# RBF Kernel\n",
    "for C in C_range:\n",
    "    for gamma in gamma_range:\n",
    "        svm_rbf = SVC(kernel='rbf', C=C, gamma=gamma)\n",
    "        svm_fit = svm_rbf.fit(X_train, y_train)\n",
    "        svm_list.append(svm_fit)\n",
    "\n",
    "        print('C = ' + str(C) + ' , ' + 'gamma = ' + str(gamma))\n"
   ]
  },
  {
   "attachments": {},
   "cell_type": "markdown",
   "metadata": {},
   "source": [
    "C_range = np.logspace(0, 10, 11)  \n",
    "gamma_range = np.logspace(-14, -4, 11)  \n",
    "\n",
    "C_range = np.logspace(5, 15, 11)  \n",
    "gamma_range = np.logspace(-14, -4, 11)\n",
    "\n",
    "1__1e5._____1__1e-14  \n",
    "2__1e6._____2__1e-13  \n",
    "3__1e7._____3__1e-12  \n",
    "4__1e8._____4__1e-11  \n",
    "5__1e9._____5__1e-10  \n",
    "6__1e10____6__1e-9  \n",
    "7__1e11____7__1e-8  \n",
    "8__1e12____8__1e-7  \n",
    "9__1e13____9__1e-6  \n",
    "10_1e14____10_1e-5  \n",
    "11_1e15____11_0.0001"
   ]
  },
  {
   "cell_type": "code",
   "execution_count": 6,
   "metadata": {},
   "outputs": [],
   "source": [
    "import pickle\n",
    "\n",
    "# save train-test data\n",
    "svm_save = open('svm2_train.csv', 'wb')\n",
    "pickle.dump(svm_list, svm_save)\n",
    "svm_save.close()\n"
   ]
  },
  {
   "cell_type": "code",
   "execution_count": 7,
   "metadata": {},
   "outputs": [
    {
     "data": {
      "text/plain": [
       "[SVC(gamma=1e-14),\n",
       " SVC(gamma=1e-13),\n",
       " SVC(gamma=1e-12),\n",
       " SVC(gamma=1e-11),\n",
       " SVC(gamma=1e-10),\n",
       " SVC(gamma=1e-09),\n",
       " SVC(gamma=1e-08),\n",
       " SVC(gamma=1e-07),\n",
       " SVC(gamma=1e-06),\n",
       " SVC(gamma=1e-05),\n",
       " SVC(gamma=0.0001),\n",
       " SVC(C=10.0, gamma=1e-14),\n",
       " SVC(C=10.0, gamma=1e-13),\n",
       " SVC(C=10.0, gamma=1e-12),\n",
       " SVC(C=10.0, gamma=1e-11),\n",
       " SVC(C=10.0, gamma=1e-10),\n",
       " SVC(C=10.0, gamma=1e-09),\n",
       " SVC(C=10.0, gamma=1e-08),\n",
       " SVC(C=10.0, gamma=1e-07),\n",
       " SVC(C=10.0, gamma=1e-06),\n",
       " SVC(C=10.0, gamma=1e-05),\n",
       " SVC(C=10.0, gamma=0.0001),\n",
       " SVC(C=100.0, gamma=1e-14),\n",
       " SVC(C=100.0, gamma=1e-13),\n",
       " SVC(C=100.0, gamma=1e-12),\n",
       " SVC(C=100.0, gamma=1e-11),\n",
       " SVC(C=100.0, gamma=1e-10),\n",
       " SVC(C=100.0, gamma=1e-09),\n",
       " SVC(C=100.0, gamma=1e-08),\n",
       " SVC(C=100.0, gamma=1e-07),\n",
       " SVC(C=100.0, gamma=1e-06),\n",
       " SVC(C=100.0, gamma=1e-05),\n",
       " SVC(C=100.0, gamma=0.0001),\n",
       " SVC(C=1000.0, gamma=1e-14),\n",
       " SVC(C=1000.0, gamma=1e-13),\n",
       " SVC(C=1000.0, gamma=1e-12),\n",
       " SVC(C=1000.0, gamma=1e-11),\n",
       " SVC(C=1000.0, gamma=1e-10),\n",
       " SVC(C=1000.0, gamma=1e-09),\n",
       " SVC(C=1000.0, gamma=1e-08),\n",
       " SVC(C=1000.0, gamma=1e-07),\n",
       " SVC(C=1000.0, gamma=1e-06),\n",
       " SVC(C=1000.0, gamma=1e-05),\n",
       " SVC(C=1000.0, gamma=0.0001),\n",
       " SVC(C=10000.0, gamma=1e-14),\n",
       " SVC(C=10000.0, gamma=1e-13),\n",
       " SVC(C=10000.0, gamma=1e-12),\n",
       " SVC(C=10000.0, gamma=1e-11),\n",
       " SVC(C=10000.0, gamma=1e-10),\n",
       " SVC(C=10000.0, gamma=1e-09),\n",
       " SVC(C=10000.0, gamma=1e-08),\n",
       " SVC(C=10000.0, gamma=1e-07),\n",
       " SVC(C=10000.0, gamma=1e-06),\n",
       " SVC(C=10000.0, gamma=1e-05),\n",
       " SVC(C=10000.0, gamma=0.0001),\n",
       " SVC(C=100000.0, gamma=1e-14),\n",
       " SVC(C=100000.0, gamma=1e-13),\n",
       " SVC(C=100000.0, gamma=1e-12),\n",
       " SVC(C=100000.0, gamma=1e-11),\n",
       " SVC(C=100000.0, gamma=1e-10),\n",
       " SVC(C=100000.0, gamma=1e-09),\n",
       " SVC(C=100000.0, gamma=1e-08),\n",
       " SVC(C=100000.0, gamma=1e-07),\n",
       " SVC(C=100000.0, gamma=1e-06),\n",
       " SVC(C=100000.0, gamma=1e-05),\n",
       " SVC(C=100000.0, gamma=0.0001),\n",
       " SVC(C=1000000.0, gamma=1e-14),\n",
       " SVC(C=1000000.0, gamma=1e-13),\n",
       " SVC(C=1000000.0, gamma=1e-12),\n",
       " SVC(C=1000000.0, gamma=1e-11),\n",
       " SVC(C=1000000.0, gamma=1e-10),\n",
       " SVC(C=1000000.0, gamma=1e-09),\n",
       " SVC(C=1000000.0, gamma=1e-08),\n",
       " SVC(C=1000000.0, gamma=1e-07),\n",
       " SVC(C=1000000.0, gamma=1e-06),\n",
       " SVC(C=1000000.0, gamma=1e-05),\n",
       " SVC(C=1000000.0, gamma=0.0001),\n",
       " SVC(C=10000000.0, gamma=1e-14),\n",
       " SVC(C=10000000.0, gamma=1e-13),\n",
       " SVC(C=10000000.0, gamma=1e-12),\n",
       " SVC(C=10000000.0, gamma=1e-11),\n",
       " SVC(C=10000000.0, gamma=1e-10),\n",
       " SVC(C=10000000.0, gamma=1e-09),\n",
       " SVC(C=10000000.0, gamma=1e-08),\n",
       " SVC(C=10000000.0, gamma=1e-07),\n",
       " SVC(C=10000000.0, gamma=1e-06),\n",
       " SVC(C=10000000.0, gamma=1e-05),\n",
       " SVC(C=10000000.0, gamma=0.0001),\n",
       " SVC(C=100000000.0, gamma=1e-14),\n",
       " SVC(C=100000000.0, gamma=1e-13),\n",
       " SVC(C=100000000.0, gamma=1e-12),\n",
       " SVC(C=100000000.0, gamma=1e-11),\n",
       " SVC(C=100000000.0, gamma=1e-10),\n",
       " SVC(C=100000000.0, gamma=1e-09),\n",
       " SVC(C=100000000.0, gamma=1e-08),\n",
       " SVC(C=100000000.0, gamma=1e-07),\n",
       " SVC(C=100000000.0, gamma=1e-06),\n",
       " SVC(C=100000000.0, gamma=1e-05),\n",
       " SVC(C=100000000.0, gamma=0.0001),\n",
       " SVC(C=1000000000.0, gamma=1e-14),\n",
       " SVC(C=1000000000.0, gamma=1e-13),\n",
       " SVC(C=1000000000.0, gamma=1e-12),\n",
       " SVC(C=1000000000.0, gamma=1e-11),\n",
       " SVC(C=1000000000.0, gamma=1e-10),\n",
       " SVC(C=1000000000.0, gamma=1e-09),\n",
       " SVC(C=1000000000.0, gamma=1e-08),\n",
       " SVC(C=1000000000.0, gamma=1e-07),\n",
       " SVC(C=1000000000.0, gamma=1e-06),\n",
       " SVC(C=1000000000.0, gamma=1e-05),\n",
       " SVC(C=1000000000.0, gamma=0.0001),\n",
       " SVC(C=10000000000.0, gamma=1e-14),\n",
       " SVC(C=10000000000.0, gamma=1e-13),\n",
       " SVC(C=10000000000.0, gamma=1e-12),\n",
       " SVC(C=10000000000.0, gamma=1e-11),\n",
       " SVC(C=10000000000.0, gamma=1e-10),\n",
       " SVC(C=10000000000.0, gamma=1e-09),\n",
       " SVC(C=10000000000.0, gamma=1e-08),\n",
       " SVC(C=10000000000.0, gamma=1e-07),\n",
       " SVC(C=10000000000.0, gamma=1e-06),\n",
       " SVC(C=10000000000.0, gamma=1e-05),\n",
       " SVC(C=10000000000.0, gamma=0.0001)]"
      ]
     },
     "execution_count": 7,
     "metadata": {},
     "output_type": "execute_result"
    }
   ],
   "source": [
    "# load data\n",
    "svm_read = open('svm2_train.csv', 'rb')\n",
    "svm_list_load = pickle.load(svm_read)\n",
    "svm_list_load\n"
   ]
  },
  {
   "cell_type": "code",
   "execution_count": 8,
   "metadata": {},
   "outputs": [
    {
     "name": "stdout",
     "output_type": "stream",
     "text": [
      "idx = 95\n",
      "SVC(C=100000000.0, gamma=1e-07)\n",
      "test_max = 0.8229166666666666\n"
     ]
    }
   ],
   "source": [
    "test_max = -1\n",
    "idx = -1\n",
    "test_list = []\n",
    "\n",
    "for n in range(0, (len(C_range)*len(gamma_range))):\n",
    "    test = svm_list_load[n].score(X_test, y_test)\n",
    "    test_list.append(test)\n",
    "\n",
    "    if test_max < test:\n",
    "        idx = n\n",
    "        test_max = test\n",
    "\n",
    "print('idx = ' + str(idx))\n",
    "print(svm_list_load[idx])\n",
    "print('test_max = ' + str(test_max))"
   ]
  },
  {
   "cell_type": "code",
   "execution_count": 9,
   "metadata": {},
   "outputs": [
    {
     "data": {
      "text/html": [
       "<style>#sk-container-id-1 {color: black;background-color: white;}#sk-container-id-1 pre{padding: 0;}#sk-container-id-1 div.sk-toggleable {background-color: white;}#sk-container-id-1 label.sk-toggleable__label {cursor: pointer;display: block;width: 100%;margin-bottom: 0;padding: 0.3em;box-sizing: border-box;text-align: center;}#sk-container-id-1 label.sk-toggleable__label-arrow:before {content: \"▸\";float: left;margin-right: 0.25em;color: #696969;}#sk-container-id-1 label.sk-toggleable__label-arrow:hover:before {color: black;}#sk-container-id-1 div.sk-estimator:hover label.sk-toggleable__label-arrow:before {color: black;}#sk-container-id-1 div.sk-toggleable__content {max-height: 0;max-width: 0;overflow: hidden;text-align: left;background-color: #f0f8ff;}#sk-container-id-1 div.sk-toggleable__content pre {margin: 0.2em;color: black;border-radius: 0.25em;background-color: #f0f8ff;}#sk-container-id-1 input.sk-toggleable__control:checked~div.sk-toggleable__content {max-height: 200px;max-width: 100%;overflow: auto;}#sk-container-id-1 input.sk-toggleable__control:checked~label.sk-toggleable__label-arrow:before {content: \"▾\";}#sk-container-id-1 div.sk-estimator input.sk-toggleable__control:checked~label.sk-toggleable__label {background-color: #d4ebff;}#sk-container-id-1 div.sk-label input.sk-toggleable__control:checked~label.sk-toggleable__label {background-color: #d4ebff;}#sk-container-id-1 input.sk-hidden--visually {border: 0;clip: rect(1px 1px 1px 1px);clip: rect(1px, 1px, 1px, 1px);height: 1px;margin: -1px;overflow: hidden;padding: 0;position: absolute;width: 1px;}#sk-container-id-1 div.sk-estimator {font-family: monospace;background-color: #f0f8ff;border: 1px dotted black;border-radius: 0.25em;box-sizing: border-box;margin-bottom: 0.5em;}#sk-container-id-1 div.sk-estimator:hover {background-color: #d4ebff;}#sk-container-id-1 div.sk-parallel-item::after {content: \"\";width: 100%;border-bottom: 1px solid gray;flex-grow: 1;}#sk-container-id-1 div.sk-label:hover label.sk-toggleable__label {background-color: #d4ebff;}#sk-container-id-1 div.sk-serial::before {content: \"\";position: absolute;border-left: 1px solid gray;box-sizing: border-box;top: 0;bottom: 0;left: 50%;z-index: 0;}#sk-container-id-1 div.sk-serial {display: flex;flex-direction: column;align-items: center;background-color: white;padding-right: 0.2em;padding-left: 0.2em;position: relative;}#sk-container-id-1 div.sk-item {position: relative;z-index: 1;}#sk-container-id-1 div.sk-parallel {display: flex;align-items: stretch;justify-content: center;background-color: white;position: relative;}#sk-container-id-1 div.sk-item::before, #sk-container-id-1 div.sk-parallel-item::before {content: \"\";position: absolute;border-left: 1px solid gray;box-sizing: border-box;top: 0;bottom: 0;left: 50%;z-index: -1;}#sk-container-id-1 div.sk-parallel-item {display: flex;flex-direction: column;z-index: 1;position: relative;background-color: white;}#sk-container-id-1 div.sk-parallel-item:first-child::after {align-self: flex-end;width: 50%;}#sk-container-id-1 div.sk-parallel-item:last-child::after {align-self: flex-start;width: 50%;}#sk-container-id-1 div.sk-parallel-item:only-child::after {width: 0;}#sk-container-id-1 div.sk-dashed-wrapped {border: 1px dashed gray;margin: 0 0.4em 0.5em 0.4em;box-sizing: border-box;padding-bottom: 0.4em;background-color: white;}#sk-container-id-1 div.sk-label label {font-family: monospace;font-weight: bold;display: inline-block;line-height: 1.2em;}#sk-container-id-1 div.sk-label-container {text-align: center;}#sk-container-id-1 div.sk-container {/* jupyter's `normalize.less` sets `[hidden] { display: none; }` but bootstrap.min.css set `[hidden] { display: none !important; }` so we also need the `!important` here to be able to override the default hidden behavior on the sphinx rendered scikit-learn.org. See: https://github.com/scikit-learn/scikit-learn/issues/21755 */display: inline-block !important;position: relative;}#sk-container-id-1 div.sk-text-repr-fallback {display: none;}</style><div id=\"sk-container-id-1\" class=\"sk-top-container\"><div class=\"sk-text-repr-fallback\"><pre>SVC(C=100000000.0, gamma=1e-07)</pre><b>In a Jupyter environment, please rerun this cell to show the HTML representation or trust the notebook. <br />On GitHub, the HTML representation is unable to render, please try loading this page with nbviewer.org.</b></div><div class=\"sk-container\" hidden><div class=\"sk-item\"><div class=\"sk-estimator sk-toggleable\"><input class=\"sk-toggleable__control sk-hidden--visually\" id=\"sk-estimator-id-1\" type=\"checkbox\" checked><label for=\"sk-estimator-id-1\" class=\"sk-toggleable__label sk-toggleable__label-arrow\">SVC</label><div class=\"sk-toggleable__content\"><pre>SVC(C=100000000.0, gamma=1e-07)</pre></div></div></div></div></div>"
      ],
      "text/plain": [
       "SVC(C=100000000.0, gamma=1e-07)"
      ]
     },
     "execution_count": 9,
     "metadata": {},
     "output_type": "execute_result"
    }
   ],
   "source": [
    "svm = svm_list_load[idx]\n",
    "svm"
   ]
  },
  {
   "cell_type": "code",
   "execution_count": 10,
   "metadata": {},
   "outputs": [],
   "source": [
    "test_grid = np.array(test_list).reshape(len(C_range), len(gamma_range))"
   ]
  },
  {
   "cell_type": "code",
   "execution_count": 11,
   "metadata": {},
   "outputs": [],
   "source": [
    "from matplotlib.colors import Normalize\n",
    "\n",
    "class MidpointNormalize(Normalize):\n",
    "    def __init__(self, vmin=None, vmax=None, midpoint=None, clip=False):\n",
    "        self.midpoint = midpoint\n",
    "        Normalize.__init__(self, vmin, vmax, clip)\n",
    "\n",
    "    def __call__(self, value, clip=None):\n",
    "        x, y = [self.vmin, self.midpoint, self.vmax], [0, 0.5, 1]\n",
    "        return np.ma.masked_array(np.interp(value, x, y))\n"
   ]
  },
  {
   "cell_type": "code",
   "execution_count": 12,
   "metadata": {},
   "outputs": [
    {
     "data": {
      "image/png": "[encoded data removed]",
      "text/plain": [
       "<Figure size 576x432 with 2 Axes>"
      ]
     },
     "metadata": {
      "needs_background": "light"
     },
     "output_type": "display_data"
    }
   ],
   "source": [
    "plt.figure(figsize=(8, 6))\n",
    "plt.subplots_adjust(left=0.2, right=0.95, bottom=0.15, top=0.95)\n",
    "plt.imshow(\n",
    "    test_grid,\n",
    "    interpolation=\"nearest\",\n",
    "    cmap=plt.cm.seismic,\n",
    "    norm=MidpointNormalize(vmin=0, midpoint=0.8),\n",
    ")\n",
    "plt.xlabel(\"gamma\")\n",
    "plt.ylabel(\"C\")\n",
    "plt.colorbar()\n",
    "plt.xticks(np.arange(len(gamma_range)), gamma_range, rotation=45)\n",
    "plt.yticks(np.arange(len(C_range)), C_range)\n",
    "plt.title(\"Validation accuracy\")\n",
    "plt.show()\n"
   ]
  },
  {
   "cell_type": "code",
   "execution_count": 13,
   "metadata": {},
   "outputs": [],
   "source": [
    "train_ = svm.score(X_train, y_train)\n",
    "test_ = svm.score(X_test, y_test)\n",
    "\n",
    "y_pred_ = svm.predict(X_test)\n",
    "\n",
    "y_score_ = svm.decision_function(X_test)\n",
    "\n",
    "svm_var = [train_, test_, y_pred_, y_score_]"
   ]
  },
  {
   "cell_type": "code",
   "execution_count": 14,
   "metadata": {},
   "outputs": [],
   "source": [
    "svm_save_var = open('svm2_var.csv', 'wb')\n",
    "pickle.dump(svm_var, svm_save_var)\n",
    "svm_save_var.close()"
   ]
  },
  {
   "cell_type": "code",
   "execution_count": 15,
   "metadata": {},
   "outputs": [],
   "source": [
    "svm_read_var = open('svm2_var.csv', 'rb')\n",
    "svm_result = pickle.load(svm_read_var)"
   ]
  },
  {
   "cell_type": "code",
   "execution_count": 16,
   "metadata": {},
   "outputs": [],
   "source": [
    "# 0, 1, 2, 3\n",
    "train = svm_result[0]\n",
    "test = svm_result[1]\n",
    "y_pred = svm_result[2]\n",
    "y_score = svm_result[3]"
   ]
  },
  {
   "cell_type": "code",
   "execution_count": 17,
   "metadata": {},
   "outputs": [
    {
     "name": "stdout",
     "output_type": "stream",
     "text": [
      "Train set accuracy = 0.7604166666666666\n",
      "Test set accuracy = 0.8229166666666666\n",
      "y_pred = [1 1 0 0 0 0 0 0 0 1 0 0 0 0 0 0 0 0 0 0 0 1 0 0 0 0 0 0 1 0 0 1 1 0 0 1 1\n",
      " 0 1 0 1 1 1 1 1 0 1 0 0 0 1 0 0 0 0 1 0 0 0 1 1 0 0 0 0 0 0 0 0 0 1 0 0 0\n",
      " 1 0 0 0 0 1 0 0 0 1 0 0 0 0 1 0 0 1 1 0 0 1 0 1 0 0 0 0 1 0 1 1 1 0 0 0 1\n",
      " 0 1 0 0 1 0 0 1 0 0 1 0 0 1 0 0 0 0 0 0 0 0 0 1 1 0 0 0 0 1 1 0 0 1 1 1 0\n",
      " 1 0 0 0 0 1 0 1 0 1 1 0 0 0 1 0 1 0 1 1 0 0 0 0 0 1 0 1 1 1 0 0 1 0 0 1 1\n",
      " 1 0 1 0 0 0 0]\n",
      "y_score = [ 5.36625278e+01  1.35595604e+00 -1.45129010e+01 -6.28390986e+01\n",
      " -2.76281446e+01 -9.74444300e+00 -4.60076769e+01 -1.37765233e+01\n",
      " -1.96985074e+01  2.10880413e+01 -3.54080083e+01 -4.74804512e+01\n",
      " -1.71222035e+01 -2.01476356e+01 -1.49517244e+00 -1.92429522e+01\n",
      " -1.49165105e+01 -1.02933479e+01 -1.99785856e+01 -2.68487781e+01\n",
      " -1.10985263e+02  1.02026619e+00 -2.15293721e+01 -1.92215879e+01\n",
      " -1.26086060e+01 -3.97688277e+01 -2.05685698e+01 -2.25386778e+01\n",
      "  6.60500054e+00 -5.27429053e+01 -3.90111794e+01  2.94429140e+00\n",
      "  6.57998947e+00 -3.77684339e+01 -1.77722161e+01  9.66832455e+00\n",
      "  2.11561207e+01 -2.18014755e+01  7.76059014e+00 -1.63761407e+01\n",
      "  8.49710033e+00  1.39066730e+01  2.18303249e+01  6.95466729e+00\n",
      "  9.40372078e+00 -2.93953321e+01  8.77598825e-01 -3.63597197e+01\n",
      " -2.97340370e+01 -3.32154794e+01  1.60528218e+01 -4.01808155e+01\n",
      " -1.96121409e+01 -2.34571025e+01 -1.75398504e+01  2.67953282e+01\n",
      " -4.62300819e+01 -3.22687886e+01 -1.72095327e+01  1.60624216e+01\n",
      "  3.94490169e+01 -4.66337523e+01 -7.31027064e+01 -2.86656211e+01\n",
      " -3.27885513e+01 -9.59985755e+00 -4.59835690e+01 -1.14395423e+01\n",
      " -3.85076700e+01 -3.11367508e+00  3.91214818e+01 -1.39352946e+01\n",
      " -3.43276134e+01 -1.67547361e+00  2.91119028e+01 -2.39605231e+01\n",
      " -3.63145604e+01 -2.10638075e+01 -1.14300208e+02  1.11082784e+01\n",
      " -4.59063827e+01 -3.69474140e+01 -2.42696688e+01  1.76688764e+01\n",
      " -1.34188642e+01 -1.25070506e+01 -2.69814985e+01 -7.17023369e+00\n",
      "  1.77421148e+01 -3.61779337e+01 -6.80517769e+00  1.71513879e+01\n",
      "  1.44434797e+00 -8.20904644e+00 -3.56634999e+01  6.99900617e+01\n",
      " -2.45684170e+01  3.34832786e+01 -4.54782051e+01 -2.47047579e+01\n",
      " -2.94951647e+01 -1.57998857e+01  3.35918081e+01 -5.12674831e+01\n",
      "  3.69036271e+00  1.17716355e+01  1.86800333e+01 -2.21762893e+01\n",
      " -2.14203360e+01 -8.34259076e+00  3.01025076e+01 -2.98680677e+01\n",
      "  3.03715210e+01 -5.41274091e+01 -1.77118166e+01  5.05695639e+01\n",
      " -3.20782249e+01 -2.74736288e+01  5.42337160e+00 -1.07167636e+01\n",
      " -4.73337321e+01  8.08527134e+01 -2.55615629e+01 -5.18318218e-01\n",
      "  2.62082551e+01 -6.10450439e+01 -4.10106677e+01 -5.28628080e+01\n",
      " -6.81688244e+00 -3.50632086e+00 -2.76001910e+01 -2.59902234e+01\n",
      " -4.06152375e+01 -3.16796914e+01  6.96988696e+00  3.97031094e+01\n",
      " -3.87621753e+01 -6.08689426e+01 -1.71330086e+01 -2.71760684e-01\n",
      "  2.84700059e+00  1.55252002e+01 -3.31178942e+01 -4.82435383e+01\n",
      "  3.58912740e+01  2.13294246e+01  7.75803499e+00 -1.65038932e+01\n",
      "  2.50280701e+01 -9.02318649e+01 -2.26638527e+01 -2.37968096e+01\n",
      " -3.53196575e+01  2.75457738e+01 -4.91385616e+01  6.23265486e+00\n",
      " -4.72238824e+01  5.56452872e+01  3.04460775e+01 -2.60713071e+01\n",
      " -2.38672315e+01 -8.82147285e+00  2.50909720e+01 -4.48832011e+01\n",
      "  4.28096078e+01 -4.68140075e+01  4.47473631e+01  5.11466623e+01\n",
      " -3.32127792e+01 -5.59339345e-02 -2.33505245e+01 -6.85492405e+00\n",
      " -2.33840205e+01  2.38514187e+01 -1.05957183e+01  5.11385659e+01\n",
      "  6.31713845e+01  3.63892876e+01 -1.72909129e+01 -2.99961400e+01\n",
      "  2.32811145e+01 -2.38954270e+01 -1.53729878e+01  2.00531404e+01\n",
      "  1.47414876e+01  4.40102484e+01 -7.65749426e+00  8.90926448e+00\n",
      " -1.35067675e+01 -2.38615313e+01 -3.76354177e+01 -6.81059405e+00]\n"
     ]
    }
   ],
   "source": [
    "print(\"Train set accuracy = \" + str(train))\n",
    "print(\"Test set accuracy = \" + str(test))\n",
    "print(\"y_pred = \" + str(y_pred))\n",
    "print(\"y_score = \" + str(y_score))"
   ]
  },
  {
   "cell_type": "code",
   "execution_count": 18,
   "metadata": {},
   "outputs": [
    {
     "data": {
      "text/plain": [
       "(110, 16, 18, 48)"
      ]
     },
     "execution_count": 18,
     "metadata": {},
     "output_type": "execute_result"
    }
   ],
   "source": [
    "from sklearn.metrics import confusion_matrix\n",
    "\n",
    "tn, fp, fn, tp = confusion_matrix(y_test, y_pred).ravel()\n",
    "tn, fp, fn, tp"
   ]
  },
  {
   "cell_type": "code",
   "execution_count": 19,
   "metadata": {},
   "outputs": [],
   "source": [
    "plt.rcParams.update({'font.size': 14})"
   ]
  },
  {
   "attachments": {},
   "cell_type": "markdown",
   "metadata": {},
   "source": [
    "0 = not diabetic  \n",
    "1 = diabetic  \n",
    "\n",
    "negative = not diabetic  \n",
    "positive = diabetic  "
   ]
  },
  {
   "cell_type": "code",
   "execution_count": 20,
   "metadata": {},
   "outputs": [
    {
     "data": {
      "image/png": "[encoded data removed]",
      "text/plain": [
       "<Figure size 576x432 with 2 Axes>"
      ]
     },
     "metadata": {
      "needs_background": "light"
     },
     "output_type": "display_data"
    }
   ],
   "source": [
    "from sklearn.metrics import ConfusionMatrixDisplay\n",
    "\n",
    "label_name = 'not diabetic', 'diabetic'\n",
    "\n",
    "fig, ax = plt.subplots(figsize=(8, 6))\n",
    "ConfusionMatrixDisplay.from_predictions(\n",
    "    y_test, y_pred, cmap='Blues', display_labels=label_name, ax=ax)\n",
    "\n",
    "ax.set_xlabel('Predicted label', fontdict={'size': '16'})\n",
    "ax.set_ylabel('True label', fontdict={'size': '16'})\n",
    "ax.tick_params(axis='both', labelsize=14)\n",
    "\n",
    "plt.show()\n"
   ]
  },
  {
   "cell_type": "code",
   "execution_count": 21,
   "metadata": {},
   "outputs": [
    {
     "data": {
      "image/png": "[encoded data removed]",
      "text/plain": [
       "<Figure size 576x432 with 2 Axes>"
      ]
     },
     "metadata": {
      "needs_background": "light"
     },
     "output_type": "display_data"
    }
   ],
   "source": [
    "fig, ax = plt.subplots(figsize=(8, 6))\n",
    "ConfusionMatrixDisplay.from_predictions(\n",
    "    y_test, y_pred, cmap='Blues', normalize='true', display_labels=label_name, ax=ax)\n",
    "\n",
    "ax.set_xlabel('Predicted label', fontdict={'size': '16'})\n",
    "ax.set_ylabel('True label', fontdict={'size': '16'})\n",
    "ax.tick_params(axis='both', labelsize=14)\n",
    "\n",
    "plt.show()\n"
   ]
  },
  {
   "attachments": {},
   "cell_type": "markdown",
   "metadata": {},
   "source": [
    "1 = diabetic  \n",
    "0 = not diabetic"
   ]
  },
  {
   "cell_type": "code",
   "execution_count": 22,
   "metadata": {},
   "outputs": [],
   "source": [
    "X_test_tn = []\n",
    "X_test_tp = []\n",
    "X_test_fn = []\n",
    "X_test_fp = []\n",
    "\n",
    "for i in np.arange(0, len(y_test), 1):\n",
    "    if y_test[i] == y_pred[i] == 0:\n",
    "        # 0 = not diabetic = n\n",
    "        X_test_tn += [X_test[i]]\n",
    "\n",
    "    elif y_test[i] == y_pred[i] == 1:\n",
    "        # 1 = diabetic = p\n",
    "        X_test_tp += [X_test[i]]\n",
    "        \n",
    "    elif y_test[i] > y_pred[i]:\n",
    "        # 1 > 0 = diabetic but pred not diabetic\n",
    "        X_test_fn += [X_test[i]]\n",
    "        \n",
    "    elif y_test[i] < y_pred[i]:\n",
    "        # 0 < 1 = not diabetic but pred diabetic\n",
    "        X_test_fp += [X_test[i]]\n"
   ]
  },
  {
   "cell_type": "code",
   "execution_count": 23,
   "metadata": {},
   "outputs": [],
   "source": [
    "# X = [(a1, b1, c1, d1, e1), (a2, b2, c2, d2, e2), (a3, b3, c3, d3, e3),...]\n",
    "# *X = (a1, b1, c1, d1, e1) (a2, b2, c2, d2, e2) (a3, b3, c3, d3, e3)...\n",
    "# zip(*X) = (a1, a2, a3,...), (b1, b2, b3,...), (c1, c2, c3,...), (d1, d2, d3,...), (e1, e2, e3,...) --> อ่านไม่ได้เลยต้องใส่ list\n",
    "\n",
    "X_test_tn = list(zip(*X_test_tn))\n",
    "X_test_tp = list(zip(*X_test_tp))\n",
    "X_test_fn = list(zip(*X_test_fn))\n",
    "X_test_fp = list(zip(*X_test_fp))"
   ]
  },
  {
   "cell_type": "code",
   "execution_count": 24,
   "metadata": {},
   "outputs": [
    {
     "data": {
      "image/png": "[encoded data removed]",
      "text/plain": [
       "<Figure size 576x432 with 1 Axes>"
      ]
     },
     "metadata": {
      "needs_background": "light"
     },
     "output_type": "display_data"
    }
   ],
   "source": [
    "from sklearn.metrics import roc_curve\n",
    "from sklearn.metrics import RocCurveDisplay\n",
    "from sklearn import metrics\n",
    "\n",
    "fig, ax = plt.subplots(figsize=(8, 6))\n",
    "fpr, tpr, _ = roc_curve(y_test, y_score, pos_label=svm.classes_[1])\n",
    "roc_auc = metrics.auc(fpr, tpr)\n",
    "roc_display = RocCurveDisplay(fpr=fpr, tpr=tpr, roc_auc=roc_auc).plot(ax=ax)\n",
    "\n",
    "plt.rcParams.update({'font.size': 14})\n",
    "plt.xlabel('True Positive rate', fontdict={'size':'16'})\n",
    "plt.ylabel('False Positive rate', fontdict={'size':'16'})\n",
    "plt.tick_params(axis='both', labelsize=14)\n",
    "plt.title('ROC Curve', size=18)\n",
    "\n",
    "plt.show()"
   ]
  },
  {
   "cell_type": "code",
   "execution_count": 25,
   "metadata": {},
   "outputs": [
    {
     "data": {
      "image/png": "[encoded data removed]",
      "text/plain": [
       "<Figure size 576x432 with 1 Axes>"
      ]
     },
     "metadata": {
      "needs_background": "light"
     },
     "output_type": "display_data"
    }
   ],
   "source": [
    "from sklearn.metrics import precision_recall_curve\n",
    "from sklearn.metrics import PrecisionRecallDisplay\n",
    "from sklearn.metrics import average_precision_score\n",
    "\n",
    "fig, ax = plt.subplots(figsize=(8, 6))\n",
    "\n",
    "prec, recall, _ = precision_recall_curve(y_test, y_score, pos_label=svm.classes_[1])\n",
    "ap = average_precision_score(y_test, y_score)\n",
    "pr_display = PrecisionRecallDisplay(precision=prec, recall=recall, average_precision=ap).plot(ax=ax)\n",
    "\n",
    "plt.rcParams.update({'font.size': 14})\n",
    "plt.tick_params(axis='both', labelsize=14)\n",
    "plt.xlabel('Recall', fontdict={'size':'16'})\n",
    "plt.ylabel('Precision', fontdict={'size':'16'})\n",
    "plt.title('Precision Recall Curve', size=18)\n",
    "\n",
    "plt.show()"
   ]
  },
  {
   "cell_type": "code",
   "execution_count": 26,
   "metadata": {},
   "outputs": [],
   "source": [
    "from sklearn.inspection import permutation_importance\n",
    "\n",
    "feature_names = ['Pregnancies', 'Glucose', 'BloodPressure', 'BMI']\n",
    "features = np.array(feature_names)\n"
   ]
  },
  {
   "cell_type": "code",
   "execution_count": 27,
   "metadata": {},
   "outputs": [],
   "source": [
    "perm_importance = permutation_importance(svm, X_test, y_test)"
   ]
  },
  {
   "cell_type": "code",
   "execution_count": 28,
   "metadata": {},
   "outputs": [],
   "source": [
    "save_imp = open('svm2_perm_imp.csv', 'wb')\n",
    "pickle.dump(perm_importance, save_imp)\n",
    "save_imp.close()"
   ]
  },
  {
   "cell_type": "code",
   "execution_count": 29,
   "metadata": {},
   "outputs": [
    {
     "data": {
      "text/plain": [
       "{'importances_mean': array([0.0375    , 0.22604167, 0.01875   , 0.07291667]),\n",
       " 'importances_std': array([0.00896076, 0.02366212, 0.00779512, 0.0225828 ]),\n",
       " 'importances': array([[0.04166667, 0.03125   , 0.02604167, 0.05208333, 0.03645833],\n",
       "        [0.234375  , 0.25      , 0.25      , 0.19791667, 0.19791667],\n",
       "        [0.01041667, 0.03125   , 0.02083333, 0.01041667, 0.02083333],\n",
       "        [0.07291667, 0.0625    , 0.09375   , 0.03645833, 0.09895833]])}"
      ]
     },
     "execution_count": 29,
     "metadata": {},
     "output_type": "execute_result"
    }
   ],
   "source": [
    "read_imp = open('svm2_perm_imp.csv', 'rb')\n",
    "perm_imp = pickle.load(read_imp)\n",
    "perm_imp"
   ]
  },
  {
   "cell_type": "code",
   "execution_count": 30,
   "metadata": {},
   "outputs": [
    {
     "data": {
      "text/plain": [
       "Text(0.5, 0, 'Importance Score')"
      ]
     },
     "execution_count": 30,
     "metadata": {},
     "output_type": "execute_result"
    },
    {
     "data": {
      "image/png": "[encoded data removed]",
      "text/plain": [
       "<Figure size 576x432 with 1 Axes>"
      ]
     },
     "metadata": {
      "needs_background": "light"
     },
     "output_type": "display_data"
    }
   ],
   "source": [
    "sorted_idx = perm_imp.importances_mean.argsort()\n",
    "\n",
    "plt.figure(figsize=(8, 6), facecolor='none')\n",
    "\n",
    "plt.barh(features[sorted_idx], perm_imp.importances_mean[sorted_idx])\n",
    "\n",
    "plt.tick_params(axis='both', labelsize=14)\n",
    "plt.xlabel('Importance Score', size=16)\n"
   ]
  },
  {
   "cell_type": "code",
   "execution_count": 31,
   "metadata": {},
   "outputs": [],
   "source": [
    "def hist_target(xlim, xticks, step, x, x1, x2, x_name):\n",
    "    plt.figure(figsize=(8, 6))\n",
    "    # plt.gca(xlim=xlim, xticks=xticks)\n",
    "\n",
    "    bins = np.arange(np.min(x), np.max(x) + step, step)\n",
    "    \n",
    "    plt.hist(x1, bins=bins, alpha=0.5, label='diabetic')\n",
    "    plt.hist(x2, bins=bins, alpha=0.5, label='not diabetic')\n",
    "\n",
    "    plt.xlabel(x_name, size=16)\n",
    "    plt.ylabel('Number', size=16)\n",
    "    plt.legend(loc='upper right')\n",
    "\n",
    "    plt.tick_params(which='major', direction='in', length=5, labelsize='12')"
   ]
  },
  {
   "cell_type": "code",
   "execution_count": 32,
   "metadata": {},
   "outputs": [],
   "source": [
    "def hist_target_ax(p1, p2, xlim, xticks, step, x, x1, x2, x_name):\n",
    "    # ax[p1, p2].set_xlim(xlim)\n",
    "    # ax[p1, p2].set_xticks(xticks)\n",
    "\n",
    "    bins = np.arange(min(x), max(x)+step, step)\n",
    "\n",
    "    ax[p1, p2].hist(x1, bins=bins, alpha=0.5, label='diabetic')\n",
    "    ax[p1, p2].hist(x2, bins=bins, alpha=0.5, label='not diabetic')\n",
    "\n",
    "    # ax[p1, p2].set_yscale('log')\n",
    "\n",
    "    ax[p1, p2].set_xlabel(x_name, fontsize=16)\n",
    "    ax[p1, p2].set_ylabel('Number', fontsize=16)\n",
    "    ax[p1, p2].legend(loc='upper right')\n",
    "\n",
    "    ax[p1, p2].tick_params(which='major', direction='in', length=5, labelsize='12')"
   ]
  },
  {
   "attachments": {},
   "cell_type": "markdown",
   "metadata": {},
   "source": [
    "1 = diabetic  \n",
    "0 = not diabetic"
   ]
  },
  {
   "cell_type": "code",
   "execution_count": 33,
   "metadata": {},
   "outputs": [
    {
     "data": {
      "text/plain": [
       "\"\\nGlucose = df['Glucose']\\nGlucose_yes = df['Glucose'].loc[df['Outcome']==1]\\nGlucose_no = df['Glucose'].loc[df['Outcome']==0]\\n\\nBMI = df['BMI']\\nBMI_yes = df['BMI'].loc[df['Outcome']==1]\\nBMI_no = df['BMI'].loc[df['Outcome']==0]\\n\\nPregnancies = df['Pregnancies']\\nPregnancies_yes = df['Pregnancies'].loc[df['Outcome']==1]\\nPregnancies_no = df['Pregnancies'].loc[df['Outcome']==0]\\n\\nBloodPressure = df['BloodPressure']\\nBloodPressure_yes = df['BloodPressure'].loc[df['Outcome']==1]\\nBloodPressure_no = df['BloodPressure'].loc[df['Outcome']==0]\\n\\nInsulin = df['Insulin']\\nInsulin_yes = df['Insulin'].loc[df['Outcome']==1]\\nInsulin_no = df['Insulin'].loc[df['Outcome']==0]\\n\\nAge = df['Age']\\nAge_yes = df['Age'].loc[df['Outcome']==1]\\nAge_no = df['Age'].loc[df['Outcome']==0]\\n\\nSkinThickness = df['SkinThickness']\\nSkinThickness_yes = df['SkinThickness'].loc[df['Outcome']==1]\\nSkinThickness_no = df['SkinThickness'].loc[df['Outcome']==0]\\n\\nDiabetesPedigreeFunction = df['DiabetesPedigreeFunction']\\nDiabetesPedigreeFunction_yes = df['DiabetesPedigreeFunction'].loc[df['Outcome']==1]\\nDiabetesPedigreeFunction_no = df['DiabetesPedigreeFunction'].loc[df['Outcome']==0]\\n\""
      ]
     },
     "execution_count": 33,
     "metadata": {},
     "output_type": "execute_result"
    }
   ],
   "source": [
    "# 'DiabetesPedigreeFunction', 'SkinThickness', 'Age', 'Insulin', 'BloodPressure', 'Pregnancies', 'BMI', 'Glucose'\n",
    "'''\n",
    "Glucose = df['Glucose']\n",
    "Glucose_yes = df['Glucose'].loc[df['Outcome']==1]\n",
    "Glucose_no = df['Glucose'].loc[df['Outcome']==0]\n",
    "\n",
    "BMI = df['BMI']\n",
    "BMI_yes = df['BMI'].loc[df['Outcome']==1]\n",
    "BMI_no = df['BMI'].loc[df['Outcome']==0]\n",
    "\n",
    "Pregnancies = df['Pregnancies']\n",
    "Pregnancies_yes = df['Pregnancies'].loc[df['Outcome']==1]\n",
    "Pregnancies_no = df['Pregnancies'].loc[df['Outcome']==0]\n",
    "\n",
    "BloodPressure = df['BloodPressure']\n",
    "BloodPressure_yes = df['BloodPressure'].loc[df['Outcome']==1]\n",
    "BloodPressure_no = df['BloodPressure'].loc[df['Outcome']==0]\n",
    "\n",
    "Insulin = df['Insulin']\n",
    "Insulin_yes = df['Insulin'].loc[df['Outcome']==1]\n",
    "Insulin_no = df['Insulin'].loc[df['Outcome']==0]\n",
    "\n",
    "Age = df['Age']\n",
    "Age_yes = df['Age'].loc[df['Outcome']==1]\n",
    "Age_no = df['Age'].loc[df['Outcome']==0]\n",
    "\n",
    "SkinThickness = df['SkinThickness']\n",
    "SkinThickness_yes = df['SkinThickness'].loc[df['Outcome']==1]\n",
    "SkinThickness_no = df['SkinThickness'].loc[df['Outcome']==0]\n",
    "\n",
    "DiabetesPedigreeFunction = df['DiabetesPedigreeFunction']\n",
    "DiabetesPedigreeFunction_yes = df['DiabetesPedigreeFunction'].loc[df['Outcome']==1]\n",
    "DiabetesPedigreeFunction_no = df['DiabetesPedigreeFunction'].loc[df['Outcome']==0]\n",
    "'''"
   ]
  },
  {
   "cell_type": "code",
   "execution_count": 34,
   "metadata": {},
   "outputs": [
    {
     "data": {
      "text/plain": [
       "\"\\nfig, ax = plt.subplots(nrows=4, ncols=2, figsize=(15, 30))\\n\\n# 'DiabetesPedigreeFunction', 'SkinThickness', 'Age', 'Insulin', 'BloodPressure', 'Pregnancies', 'BMI', 'Glucose'\\n\\nhist_target_ax(0, 0, 1, 1, 10, Glucose, Glucose_yes, Glucose_no, 'Glucose')\\nhist_target_ax(0, 1, 1, 1, 5, BMI, BMI_yes, BMI_no, 'BMI')\\nhist_target_ax(1, 0, 1, 1, 1, Pregnancies, Pregnancies_yes, Pregnancies_no, 'Pregnancies')\\nhist_target_ax(1, 1, 1, 1, 6, BloodPressure, BloodPressure_yes, BloodPressure_no, 'BloodPressure')\\nhist_target_ax(2, 0, 1, 1, 50, Insulin, Insulin_yes, Insulin_no, 'Insulin')\\nhist_target_ax(2, 1, 1, 1, 5, Age, Age_yes, Age_no, 'Age')\\nhist_target_ax(3, 0, 1, 1, 8, SkinThickness, SkinThickness_yes, SkinThickness_no, 'SkinThickness')\\nhist_target_ax(3, 1, 1, 1, 0.2, DiabetesPedigreeFunction, DiabetesPedigreeFunction_yes, DiabetesPedigreeFunction_no, 'DiabetesPedigreeFunction')\\n\""
      ]
     },
     "execution_count": 34,
     "metadata": {},
     "output_type": "execute_result"
    }
   ],
   "source": [
    "'''\n",
    "fig, ax = plt.subplots(nrows=4, ncols=2, figsize=(15, 30))\n",
    "\n",
    "# 'DiabetesPedigreeFunction', 'SkinThickness', 'Age', 'Insulin', 'BloodPressure', 'Pregnancies', 'BMI', 'Glucose'\n",
    "\n",
    "hist_target_ax(0, 0, 1, 1, 10, Glucose, Glucose_yes, Glucose_no, 'Glucose')\n",
    "hist_target_ax(0, 1, 1, 1, 5, BMI, BMI_yes, BMI_no, 'BMI')\n",
    "hist_target_ax(1, 0, 1, 1, 1, Pregnancies, Pregnancies_yes, Pregnancies_no, 'Pregnancies')\n",
    "hist_target_ax(1, 1, 1, 1, 6, BloodPressure, BloodPressure_yes, BloodPressure_no, 'BloodPressure')\n",
    "hist_target_ax(2, 0, 1, 1, 50, Insulin, Insulin_yes, Insulin_no, 'Insulin')\n",
    "hist_target_ax(2, 1, 1, 1, 5, Age, Age_yes, Age_no, 'Age')\n",
    "hist_target_ax(3, 0, 1, 1, 8, SkinThickness, SkinThickness_yes, SkinThickness_no, 'SkinThickness')\n",
    "hist_target_ax(3, 1, 1, 1, 0.2, DiabetesPedigreeFunction, DiabetesPedigreeFunction_yes, DiabetesPedigreeFunction_no, 'DiabetesPedigreeFunction')\n",
    "'''"
   ]
  },
  {
   "cell_type": "code",
   "execution_count": 35,
   "metadata": {},
   "outputs": [],
   "source": [
    "# hist_target([0,10], np.arange(0,11,1), 10, Glucose, Glucose_yes, Glucose_no, 'Glucose')"
   ]
  },
  {
   "cell_type": "code",
   "execution_count": 36,
   "metadata": {},
   "outputs": [],
   "source": [
    "def tn_tp_fn_fp(xlim, xticks, step, x, xlabel, pos):\n",
    "    plt.figure(figsize=(8, 6), facecolor='none')\n",
    "    # plt.gca(xlim=xlim, xticks = xticks)\n",
    "\n",
    "    # step = 0.15\n",
    "    bins = np.arange(np.min(x), np.max(x) + step, step)\n",
    "\n",
    "    plt.hist(X_test_tp[pos], bins=bins, alpha=0.5, label='tp')\n",
    "    plt.hist(X_test_tn[pos], bins=bins, alpha=0.5, label='tn')\n",
    "    plt.hist(X_test_fp[pos], bins=bins, alpha=0.5, label='fp')\n",
    "    plt.hist(X_test_fn[pos], bins=bins, alpha=0.5, label='fn')\n",
    "\n",
    "    plt.xlabel(str(xlabel), size=16)\n",
    "    plt.ylabel('Number', size=16)\n",
    "    plt.legend(loc='upper right')\n",
    "\n",
    "    plt.tick_params(which='major', direction='in', length=5, labelsize='12')"
   ]
  },
  {
   "cell_type": "code",
   "execution_count": 37,
   "metadata": {},
   "outputs": [],
   "source": [
    "# tn_tp_fn_fp([0,10], np.arange(0,11,1), 10, Glucose, 'Glucose', 1)"
   ]
  }
 ],
 "metadata": {
  "kernelspec": {
   "display_name": "Python 3.8.5 64-bit",
   "language": "python",
   "name": "python3"
  },
  "language_info": {
   "codemirror_mode": {
    "name": "ipython",
    "version": 3
   },
   "file_extension": ".py",
   "mimetype": "text/x-python",
   "name": "python",
   "nbconvert_exporter": "python",
   "pygments_lexer": "ipython3",
   "version": "3.8.5"
  },
  "orig_nbformat": 4,
  "vscode": {
   "interpreter": {
    "hash": "626427279aa2454b6be04cdb3a226e87a519a5817b1366377d3d6a340696fdd3"
   }
  }
 },
 "nbformat": 4,
 "nbformat_minor": 2
}
