{
  "nbformat": 4,
  "nbformat_minor": 0,
  "metadata": {
    "colab": {
      "provenance": []
    },
    "kernelspec": {
      "name": "python3",
      "display_name": "Python 3"
    },
    "language_info": {
      "name": "python"
    }
  },
  "cells": [
    {
      "cell_type": "code",
      "execution_count": null,
      "metadata": {
        "id": "XLS2SpifQxTE"
      },
      "outputs": [],
      "source": [
        "import numpy as np\n",
        "import matplotlib.pyplot as plt\n",
        "\n",
        "# Set the seed so that randomness is reproduceable\n",
        "np.random.seed(0)\n",
        "\n",
        "# Mean and SD for the height distributions of men and women\n",
        "m_mean = 171.00\n",
        "m_sd = 10.09\n",
        "w_mean = 150.05\n",
        "w_sd = 11.19\n",
        "\n",
        "# Number of men and women in the sample, close to actual ratio\n",
        "mw_ratio = 1.0168\n",
        "w_number = 500\n",
        "m_number = int(np.around(mw_ratio * w_number))\n",
        "\n",
        "# Generate heights of sample, using Gaussian distribution\n",
        "# (Close enough, height is a classic quantity in stat that is Gaussian)\n",
        "w_height = np.random.normal(w_mean, w_sd, w_number)\n",
        "m_height = np.random.normal(m_mean, m_sd, m_number)\n",
        "\n",
        "# Print out the heights\n",
        "for i in range(m_number):\n",
        "  print(np.around(m_height[i], decimals=1))\n",
        "# for i in range(w_number):\n",
        "#   print(np.around(w_height[i], decimals=1))"
      ]
    }
  ]
}